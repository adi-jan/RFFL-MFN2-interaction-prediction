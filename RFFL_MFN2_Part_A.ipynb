{
  "cells": [
    {
      "cell_type": "markdown",
      "metadata": {
        "id": "view-in-github",
        "colab_type": "text"
      },
      "source": [
        "<a href=\"https://colab.research.google.com/github/adi-jan/RFFL-MFN2-interaction-prediction/blob/main/RFFL_MFN2_Part_A.ipynb\" target=\"_parent\"><img src=\"https://colab.research.google.com/assets/colab-badge.svg\" alt=\"Open In Colab\"/></a>"
      ]
    },
    {
      "cell_type": "code",
      "execution_count": 6,
      "metadata": {
        "colab": {
          "base_uri": "https://localhost:8080/"
        },
        "id": "UoLK_RKp0PxE",
        "outputId": "47ffa336-d1b8-4fbb-d430-3ee4dcdb4ce7"
      },
      "outputs": [
        {
          "output_type": "stream",
          "name": "stdout",
          "text": [
            "Drive already mounted at /content/drive; to attempt to forcibly remount, call drive.mount(\"/content/drive\", force_remount=True).\n"
          ]
        }
      ],
      "source": [
        "#@title 1. Mount google drive\n",
        "from google.colab import drive\n",
        "drive.mount('/content/drive')\n",
        "from sys import version_info\n",
        "python_version = f\"{version_info.major}.{version_info.minor}\""
      ]
    },
    {
      "cell_type": "code",
      "execution_count": 7,
      "metadata": {
        "colab": {
          "base_uri": "https://localhost:8080/"
        },
        "id": "6Xjd3VPYBBDL",
        "outputId": "8da60808-5f8f-4171-913e-a13a3b6d2c65"
      },
      "outputs": [
        {
          "output_type": "stream",
          "name": "stdout",
          "text": [
            "Drive already mounted at /content/drive; to attempt to forcibly remount, call drive.mount(\"/content/drive\", force_remount=True).\n",
            "FASTA headers modified and saved to '/content/drive/MyDrive/Header_edited_MFN2_fastafile/modified_MFN2.fasta'\n",
            "FASTA header modification complete for all files.\n"
          ]
        }
      ],
      "source": [
        "#@title 2. Editing the Fasta Header\n",
        "from google.colab import drive\n",
        "drive.mount('/content/drive')\n",
        "\n",
        "import os\n",
        "\n",
        "# Directory and input file locations\n",
        "input_dir = '/content/drive/MyDrive/MFN2_fastafile'  # Directory containing input FASTA files\n",
        "result_dir = '/content/drive/MyDrive/Header_edited_MFN2_fastafile'  # Directory to save modified FASTA files\n",
        "\n",
        "# Define function to modify FASTA headers\n",
        "def modify_fasta_headers(input_file_path, output_file_path):\n",
        "    with open(input_file_path, 'r') as f_in, open(output_file_path, 'w') as f_out:\n",
        "        for line in f_in:\n",
        "            if line.startswith('>'):\n",
        "                header = line.strip()\n",
        "                protein_id = header.split()[0][1:]\n",
        "                modified_header = f\"{header} [protein_id={protein_id}]\"\n",
        "                f_out.write(modified_header + '\\n')\n",
        "            else:\n",
        "                f_out.write(line)\n",
        "\n",
        "# Ensure output directory exists, if not, create it\n",
        "if not os.path.exists(result_dir):\n",
        "    os.makedirs(result_dir)\n",
        "\n",
        "# Process all FASTA files in the input directory\n",
        "for file_name in os.listdir(input_dir):\n",
        "    if file_name.endswith('.fasta'):\n",
        "        input_file_path = os.path.join(input_dir, file_name)\n",
        "        output_file_path = os.path.join(result_dir, f\"modified_{file_name}\")\n",
        "\n",
        "        # Modify FASTA headers\n",
        "        modify_fasta_headers(input_file_path, output_file_path)\n",
        "        print(f\"FASTA headers modified and saved to '{output_file_path}'\")\n",
        "\n",
        "print(\"FASTA header modification complete for all files.\")\n"
      ]
    },
    {
      "cell_type": "code",
      "execution_count": 8,
      "metadata": {
        "colab": {
          "base_uri": "https://localhost:8080/"
        },
        "id": "WfPp26I_Ep9c",
        "outputId": "13c5dd9b-7a87-4924-fdd9-86c692a1908b"
      },
      "outputs": [
        {
          "output_type": "stream",
          "name": "stdout",
          "text": [
            "Drive already mounted at /content/drive; to attempt to forcibly remount, call drive.mount(\"/content/drive\", force_remount=True).\n",
            "Completed.\n"
          ]
        }
      ],
      "source": [
        "#@title 3. Adding RFFL as the bait sequence to MFN2(header edited) fasta file\n",
        "from google.colab import drive\n",
        "drive.mount('/content/drive')\n",
        "\n",
        "import os\n",
        "import re\n",
        "\n",
        "# Directory and input file locations\n",
        "input_dir = '/content/drive/MyDrive/Header_edited_MFN2_fastafile'  # Directory containing input .txt files\n",
        "result_dir = '/content/drive/MyDrive/Bait_sequence_added'  # Directory to save .fasta files\n",
        "\n",
        "# Bait protein sequence and bait protein name\n",
        "bait_protein_sequence = \"MWATCCNWFCLDGQPEEVPPPQGARMQAYSNPGYSSFPSPTGLEPSCKSCGAHFANTARKQTCLDCKKNFCMTCSSQVGNGPRLCLLCQRFRATAFQREELMKMKVKDLRDYLSLHDISTEMCREKEELVLLVLGQQPVISQEDRTRASTLSPDFPEQQAFLTQPHSSMVPPTSPNLPSSSAQATSVPPAQVQENQQANGHVSQDQEEPVYLESVARVPAEDETQSIDSEDSFVPGRRASLSDLTDLEDIEGLTVRQLKEILARNFVNYKGCCEKWELMERVTRLYKDQKGLQHLVSGAEDQNGGAVPSGLEENLCKICMDSPIDCVLLECGHMVTCTKCGKRMNECPICRQYVIRAVHVFRS\"  # Replace with your bait protein sequence\n",
        "bait_protein_name = \"RFFL\"  # Replace with your bait protein name\n",
        "\n",
        "# Initialize variables to store gene data\n",
        "gene_data = {}\n",
        "divide = ':'\n",
        "\n",
        "# Create the result directory if it doesn't exist\n",
        "os.makedirs(result_dir, exist_ok=True)\n",
        "\n",
        "# Function to process a single file\n",
        "def process_file(input_file):\n",
        "    with open(os.path.join(input_dir, input_file), 'r') as file:\n",
        "        txt_data = file.readlines()\n",
        "\n",
        "    gene_data = {}\n",
        "    current_gene_name = None\n",
        "\n",
        "    for line in txt_data:\n",
        "        if line.startswith('>'):\n",
        "            current_gene_name = line.strip().split()[0][1:]\n",
        "            gene_data[current_gene_name] = [line]\n",
        "        else:\n",
        "            if current_gene_name is not None:\n",
        "                gene_data[current_gene_name].append(line)\n",
        "\n",
        "    for gene_name, gene_content in gene_data.items():\n",
        "        fasta_content = gene_content + [divide + '\\n'] + [bait_protein_sequence + '\\n']\n",
        "        output_file = os.path.join(result_dir, f\"{gene_name}-{bait_protein_name}.fasta\")\n",
        "        with open(output_file, 'w') as file:\n",
        "            file.writelines(fasta_content)\n",
        "        print(f\"FASTA file created: {output_file}\")\n",
        "\n",
        "# Process all .txt files in the input directory\n",
        "for file_name in os.listdir(input_dir):\n",
        "    if file_name.endswith('.txt'):\n",
        "        process_file(file_name)\n",
        "\n",
        "print(\"Completed.\")\n"
      ]
    },
    {
      "cell_type": "code",
      "source": [
        "#@title 3. Adding RFFL as the bait sequence to MFN2(header edited) fasta file\n",
        "from google.colab import drive\n",
        "drive.mount('/content/drive')\n",
        "\n",
        "import os\n",
        "\n",
        "# Directory and input file locations\n",
        "input_dir = '/content/drive/MyDrive/Header_edited_MFN2_fastafile'  # Directory containing input .fasta files\n",
        "result_dir = '/content/drive/MyDrive/Bait_sequence_added'  # Directory to save modified .fasta files\n",
        "\n",
        "# Bait protein sequence and bait protein name\n",
        "bait_protein_sequence = \"MWATCCNWFCLDGQPEEVPPPQGARMQAYSNPGYSSFPSPTGLEPSCKSCGAHFANTARKQTCLDCKKNFCMTCSSQVGNGPRLCLLCQRFRATAFQREELMKMKVKDLRDYLSLHDISTEMCREKEELVLLVLGQQPVISQEDRTRASTLSPDFPEQQAFLTQPHSSMVPPTSPNLPSSSAQATSVPPAQVQENQQANGHVSQDQEEPVYLESVARVPAEDETQSIDSEDSFVPGRRASLSDLTDLEDIEGLTVRQLKEILARNFVNYKGCCEKWELMERVTRLYKDQKGLQHLVSGAEDQNGGAVPSGLEENLCKICMDSPIDCVLLECGHMVTCTKCGKRMNECPICRQYVIRAVHVFRS\"  # Replace with your bait protein sequence\n",
        "bait_protein_name = \"RFFL\"  # Replace with your bait protein name\n",
        "\n",
        "# Initialize variables to store gene data\n",
        "divide = ':'\n",
        "\n",
        "# Create the result directory if it doesn't exist\n",
        "os.makedirs(result_dir, exist_ok=True)\n",
        "\n",
        "# Function to process a single file\n",
        "def process_file(input_file):\n",
        "    with open(os.path.join(input_dir, input_file), 'r') as file:\n",
        "        fasta_data = file.readlines()\n",
        "\n",
        "    gene_data = {}\n",
        "    current_gene_name = None\n",
        "\n",
        "    for line in fasta_data:\n",
        "        if line.startswith('>'):\n",
        "            current_gene_name = line.strip().split()[0][1:]\n",
        "            gene_data[current_gene_name] = [line]\n",
        "        else:\n",
        "            if current_gene_name is not None:\n",
        "                gene_data[current_gene_name].append(line)\n",
        "\n",
        "    for gene_name, gene_content in gene_data.items():\n",
        "        fasta_content = gene_content + [divide + '\\n'] + [bait_protein_sequence + '\\n']\n",
        "        output_file = os.path.join(result_dir, f\"{gene_name}-{bait_protein_name}.fasta\")\n",
        "        with open(output_file, 'w') as file:\n",
        "            file.writelines(fasta_content)\n",
        "        print(f\"FASTA file created: {output_file}\")\n",
        "\n",
        "# Process all .fasta files in the input directory\n",
        "for file_name in os.listdir(input_dir):\n",
        "    if file_name.endswith('.fasta'):\n",
        "        process_file(file_name)\n",
        "\n",
        "print(\"Completed.\")\n"
      ],
      "metadata": {
        "colab": {
          "base_uri": "https://localhost:8080/"
        },
        "id": "j2j6lCrsWLI-",
        "outputId": "0c73bd0d-67d1-4f04-bf15-3dd6900b2aa8"
      },
      "execution_count": 9,
      "outputs": [
        {
          "output_type": "stream",
          "name": "stdout",
          "text": [
            "Drive already mounted at /content/drive; to attempt to forcibly remount, call drive.mount(\"/content/drive\", force_remount=True).\n",
            "FASTA file created: /content/drive/MyDrive/Bait_sequence_added/sp|O95140|MFN2_HUMAN-RFFL.fasta\n",
            "Completed.\n"
          ]
        }
      ]
    }
  ],
  "metadata": {
    "colab": {
      "provenance": [],
      "authorship_tag": "ABX9TyOdHl25+lntmSfmSzzIwC4W",
      "include_colab_link": true
    },
    "kernelspec": {
      "display_name": "Python 3",
      "name": "python3"
    },
    "language_info": {
      "name": "python"
    }
  },
  "nbformat": 4,
  "nbformat_minor": 0
}